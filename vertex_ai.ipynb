{
 "cells": [
  {
   "cell_type": "code",
   "execution_count": null,
   "metadata": {},
   "outputs": [
    {
     "name": "stdout",
     "output_type": "stream",
     "text": [
      "Marketing Affiliate Agreement between Birch First Global Investments Inc. and Mount Knowledge Holdings Inc."
     ]
    }
   ],
   "source": [
    "from google import genai\n",
    "from google.genai import types\n",
    "# client = genai.Client(\n",
    "#   vertexai=True, project=\"jusbundle\", location=\"asia-southeast1\",\n",
    "# )\n",
    "client = genai.Client(\n",
    "  api_key='get from api keys txt file',\n",
    "  vertexai=False,            # default; you can omit this\n",
    ")\n",
    "generation_config = {\"temperature\": 0.5, \"top_p\": 0.95, \"top_k\": 40, \n",
    "                     \"max_tokens\": 1024}\n",
    "model = \"gemini-2.5-flash-preview-04-17\"\n",
    "# with open('ACCURAYINC_09_01_2010-EX-10.31-DISTRIBUTOR AGREEMENT.txt', 'r', encoding='utf-8') as f:\n",
    "with open('CybergyHoldingsInc_20140520_10-Q_EX-10.27_8605784_EX-10.27_Affiliate Agreement.txt', 'r', encoding='utf-8') as f:\n",
    "# with open('2ThemartComInc_19990826_10-12G_EX-10.10_6700288_EX-10.10_Co-Branding Agreement_ Agency Agreement.txt', 'r', encoding='utf-8') as f:\n",
    "    legal_document = f.read()\n",
    "\n",
    "\n",
    "prompt=    f\"\"\"\n",
    "You are a legal document specialist. \n",
    "Read the text below and produce a single-sentence description (max 15 words) that includes:\n",
    " • The document type (e.g. “Invoice”, “Master Service Agreement”)\n",
    " • The key parties involved\n",
    " • The main purpose or subject\n",
    "\n",
    "Do not invent any details or exceed 15 words.\n",
    "\n",
    "{legal_document}\n",
    "\"\"\"\n",
    "# print(prompt)\n",
    "response = client.models.generate_content(\n",
    "  model=model,\n",
    "  contents=[\n",
    "prompt\n",
    "  ],\n",
    ")\n",
    "print(response.text, end=\"\")"
   ]
  }
 ],
 "metadata": {
  "kernelspec": {
   "display_name": "venv",
   "language": "python",
   "name": "python3"
  },
  "language_info": {
   "codemirror_mode": {
    "name": "ipython",
    "version": 3
   },
   "file_extension": ".py",
   "mimetype": "text/x-python",
   "name": "python",
   "nbconvert_exporter": "python",
   "pygments_lexer": "ipython3",
   "version": "3.11.0"
  }
 },
 "nbformat": 4,
 "nbformat_minor": 2
}
